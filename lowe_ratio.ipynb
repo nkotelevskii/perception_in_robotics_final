{
 "cells": [
  {
   "cell_type": "code",
   "execution_count": 1,
   "metadata": {},
   "outputs": [],
   "source": [
    "import h5py\n",
    "import os\n",
    "from tqdm import tqdm\n",
    "from os import listdir\n",
    "from os.path import isfile, join\n",
    "import numpy as np"
   ]
  },
  {
   "cell_type": "code",
   "execution_count": 2,
   "metadata": {},
   "outputs": [],
   "source": [
    "def lowe_ratio_nn(kp1_desc, kp2_desc, r=0.95):\n",
    "    # Calculate l2 distance for all possible pairs. The resulting matrix should be of size n_keypoints_1 x n_keypoints_2\n",
    "    dist = ((kp1_desc[:, None, :] - kp2_desc[None, :, :]) ** 2).sum(axis=-1)\n",
    "\n",
    "    # Find closest matching descriptor from kp2_desc. The resulting vector should be of size n_keypoints_1\n",
    "    nn_idx1 = np.argsort(dist, axis=1)[:, 0]\n",
    "    ratio_test_mask1 = dist[range(dist.shape[0]), nn_idx1] / np.sort(dist, axis=1)[:, 1] < r\n",
    "\n",
    "    # Find closest matching descriptor from kp1_desc. The resulting vector should be of size n_keypoints_2\n",
    "    nn_idx2 = np.argsort(dist, axis=0)[0, :]\n",
    "    ratio_test_mask2 = dist[nn_idx2, range(dist.shape[1])] / np.sort(dist, axis=0)[1, :] < r\n",
    "\n",
    "    # Find mutual matches here\n",
    "    mutual_mask = np.zeros(len(nn_idx1))\n",
    "    for i, m in enumerate(nn_idx1):\n",
    "        if nn_idx2[m] == i:\n",
    "            mutual_mask[i] = ratio_test_mask2[m]\n",
    "    # Combine mutual_mask and ratio test masks here from the perspective of nn_idx1\n",
    "    match_mask = ratio_test_mask1 * mutual_mask\n",
    "    nn_idx1[match_mask.astype(int) == 0] = -1\n",
    "    return nn_idx1"
   ]
  },
  {
   "cell_type": "code",
   "execution_count": 7,
   "metadata": {},
   "outputs": [],
   "source": [
    "mypath = \"../all_data_superglue/rgb_small/\"\n",
    "img_names = sorted([f for f in listdir(mypath) if isfile(join(mypath, f))])\n",
    "    \n",
    "h5_path = \"../all_data_superglue/rgb_artifacts/\"\n",
    "\n",
    "keypoint_f = h5py.File(os.path.join(h5_path, 'keypoints.h5'), 'r')\n",
    "keypoints = list(keypoint_f.keys())\n",
    "\n",
    "descriptors_f = h5py.File(os.path.join(h5_path, 'descriptors.h5'), 'r')\n",
    "descriptors = list(descriptors_f.keys())"
   ]
  },
  {
   "cell_type": "code",
   "execution_count": 4,
   "metadata": {},
   "outputs": [
    {
     "name": "stderr",
     "output_type": "stream",
     "text": [
      "100%|███████████████████████████████████████████| 19/19 [00:06<00:00,  3.02it/s]\n"
     ]
    }
   ],
   "source": [
    "for i in tqdm(range(len(descriptors) - 1)):\n",
    "    name1 = img_names[i][:-4]\n",
    "    name2 = img_names[i+1][:-4]\n",
    "    desc1 = descriptors_f[descriptors[i]][()]\n",
    "    desc2 = descriptors_f[descriptors[i + 1]][()]\n",
    "    kp1 = keypoint_f[keypoints[i]][()]\n",
    "    kp2 = keypoint_f[keypoints[i + 1]][()]\n",
    "    match = lowe_ratio_nn(desc1, desc2)\n",
    "    np.savez(f\"./disk_lowe_rgb/{name1}_{name2}_matches.npz\", {'keypoints0': kp1, 'keypoints1': kp2, 'matches': match})"
   ]
  },
  {
   "cell_type": "code",
   "execution_count": 8,
   "metadata": {},
   "outputs": [],
   "source": [
    "glue_path = \"../all_data_superglue/rgb_glue_artifacts/\"\n",
    "glue_names = img_names = sorted([f for f in listdir(glue_path) if isfile(join(glue_path, f))])"
   ]
  },
  {
   "cell_type": "code",
   "execution_count": 9,
   "metadata": {},
   "outputs": [
    {
     "name": "stderr",
     "output_type": "stream",
     "text": [
      "100%|███████████████████████████████████████████| 19/19 [00:01<00:00, 18.89it/s]\n"
     ]
    }
   ],
   "source": [
    "for name in tqdm(glue_names):\n",
    "    info = dict(np.load(glue_path + name))\n",
    "    match = lowe_ratio_nn(info['descriptors0'].T, info['descriptors1'].T)\n",
    "    np.savez('./glue_lowe_rgb/' + name, {'keypoints0': info['keypoints0'], 'keypoints1': info['keypoints1'], 'matches': match})"
   ]
  },
  {
   "cell_type": "code",
   "execution_count": 16,
   "metadata": {},
   "outputs": [
    {
     "data": {
      "text/plain": [
       "((256, 367), (367, 2), (367,))"
      ]
     },
     "execution_count": 16,
     "metadata": {},
     "output_type": "execute_result"
    }
   ],
   "source": [
    "info['descriptors0'].shape, info['keypoints0'].shape, info['scores0'].shape"
   ]
  },
  {
   "cell_type": "code",
   "execution_count": null,
   "metadata": {},
   "outputs": [],
   "source": []
  }
 ],
 "metadata": {
  "kernelspec": {
   "display_name": "Python 3 (ipykernel)",
   "language": "python",
   "name": "python3"
  },
  "language_info": {
   "codemirror_mode": {
    "name": "ipython",
    "version": 3
   },
   "file_extension": ".py",
   "mimetype": "text/x-python",
   "name": "python",
   "nbconvert_exporter": "python",
   "pygments_lexer": "ipython3",
   "version": "3.8.10"
  }
 },
 "nbformat": 4,
 "nbformat_minor": 4
}
