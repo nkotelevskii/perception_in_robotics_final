{
 "cells": [
  {
   "cell_type": "code",
   "execution_count": 1,
   "id": "eaa4a970-fc0f-41b7-a290-d85cb6d0a0be",
   "metadata": {},
   "outputs": [],
   "source": [
    "import numpy as np\n",
    "import cv2 as cv\n",
    "import os\n",
    "import glob\n",
    "from scipy.linalg import rq"
   ]
  },
  {
   "cell_type": "code",
   "execution_count": null,
   "id": "48d2a092-f917-45b5-8ffa-2585c0767a4c",
   "metadata": {},
   "outputs": [],
   "source": []
  },
  {
   "cell_type": "code",
   "execution_count": null,
   "id": "39be9a9a-01b3-4656-8f0f-ea2663da9496",
   "metadata": {},
   "outputs": [],
   "source": []
  },
  {
   "cell_type": "markdown",
   "id": "de9c2034-558d-4bed-b42a-fc9e31388c4f",
   "metadata": {},
   "source": [
    "## After calibration"
   ]
  },
  {
   "cell_type": "code",
   "execution_count": 2,
   "id": "14709918-daaa-4a15-854d-bc69da97715c",
   "metadata": {},
   "outputs": [],
   "source": [
    "P_rec = np.array(\"7.070493e+02 0.000000e+00 6.040814e+02 0.000000e+00 0.000000e+00 7.070493e+02 1.805066e+02 0.000000e+00 0.000000e+00 0.000000e+00 1.000000e+00 0.000000e+00\".split()).astype(float).reshape(3, 4)"
   ]
  },
  {
   "cell_type": "code",
   "execution_count": 3,
   "id": "9ceee42c-d4a7-4275-9a81-2bd156ec4ce9",
   "metadata": {},
   "outputs": [],
   "source": [
    "K_no_rec = np.array(\"9.812178e+02 0.000000e+00 6.900000e+02 0.000000e+00 9.758994e+02 2.471364e+02 0.000000e+00 0.000000e+00 1.000000e+00\".split()).astype(float).reshape(3, 3)"
   ]
  },
  {
   "cell_type": "code",
   "execution_count": 4,
   "id": "7e5aa0c4-85a3-4e7e-983f-f54fe3d9b225",
   "metadata": {},
   "outputs": [],
   "source": [
    "distCoeffs = np.array(\"-3.791375e-01 2.148119e-01 1.227094e-03 2.343833e-03 -7.910379e-02\".split()).astype(float).reshape(1, 5)"
   ]
  },
  {
   "cell_type": "code",
   "execution_count": null,
   "id": "bdd398e9-e350-4b1e-8dc2-83fd0e2f2950",
   "metadata": {},
   "outputs": [],
   "source": []
  },
  {
   "cell_type": "code",
   "execution_count": 5,
   "id": "b07f590b-eb0a-4165-9446-27ae46c6dde2",
   "metadata": {},
   "outputs": [
    {
     "data": {
      "text/plain": [
       "array([[707.0493,   0.    , 604.0814,   0.    ],\n",
       "       [  0.    , 707.0493, 180.5066,   0.    ],\n",
       "       [  0.    ,   0.    ,   1.    ,   0.    ]])"
      ]
     },
     "execution_count": 5,
     "metadata": {},
     "output_type": "execute_result"
    }
   ],
   "source": [
    "P_rec"
   ]
  },
  {
   "cell_type": "code",
   "execution_count": 6,
   "id": "00aff592-ab20-4845-b7d8-45248be46ab8",
   "metadata": {},
   "outputs": [
    {
     "data": {
      "text/plain": [
       "array([[981.2178,   0.    , 690.    ],\n",
       "       [  0.    , 975.8994, 247.1364],\n",
       "       [  0.    ,   0.    ,   1.    ]])"
      ]
     },
     "execution_count": 6,
     "metadata": {},
     "output_type": "execute_result"
    }
   ],
   "source": [
    "K_no_rec"
   ]
  },
  {
   "cell_type": "code",
   "execution_count": 7,
   "id": "8cb0bc54-b46d-40ed-99ac-3e3821f0dda1",
   "metadata": {},
   "outputs": [
    {
     "data": {
      "text/plain": [
       "array([[-0.3791375 ,  0.2148119 ,  0.00122709,  0.00234383, -0.07910379]])"
      ]
     },
     "execution_count": 7,
     "metadata": {},
     "output_type": "execute_result"
    }
   ],
   "source": [
    "distCoeffs"
   ]
  },
  {
   "cell_type": "code",
   "execution_count": null,
   "id": "e737a6a4-148d-4e2c-89e8-4b9d4ba1d247",
   "metadata": {},
   "outputs": [],
   "source": []
  },
  {
   "cell_type": "code",
   "execution_count": null,
   "id": "dce77d86-9888-4a9c-9913-b74b800580e2",
   "metadata": {},
   "outputs": [],
   "source": []
  },
  {
   "cell_type": "code",
   "execution_count": 8,
   "id": "9f0e5f72-d6b0-4a47-9e60-53fec20e2965",
   "metadata": {},
   "outputs": [],
   "source": [
    "path = 'results/kitti_test_output/0000000001_0000000002_matches.npz'"
   ]
  },
  {
   "cell_type": "code",
   "execution_count": 9,
   "id": "81d044e5-4d40-48fe-b69c-a76375a9593c",
   "metadata": {},
   "outputs": [
    {
     "name": "stdout",
     "output_type": "stream",
     "text": [
      "npz.files=['keypoints0', 'keypoints1', 'matches', 'match_confidence']\n",
      "npz['keypoints0'].shape=(878, 2)\n",
      "npz['keypoints1'].shape=(841, 2)\n",
      "npz['matches'].shape=(878,)\n",
      "np.sum(npz['matches']>-1)=666\n",
      "npz['match_confidence'].shape=(878,)\n"
     ]
    }
   ],
   "source": [
    "npz = np.load(path)\n",
    "print(f\"{npz.files=}\")\n",
    "\n",
    "print(f\"{npz['keypoints0'].shape=}\")\n",
    "print(f\"{npz['keypoints1'].shape=}\")\n",
    "\n",
    "print(f\"{npz['matches'].shape=}\")\n",
    "\n",
    "print(f\"{np.sum(npz['matches']>-1)=}\")\n",
    "\n",
    "print(f\"{npz['match_confidence'].shape=}\")"
   ]
  },
  {
   "cell_type": "code",
   "execution_count": null,
   "id": "686966c6-84d6-4592-aca8-33b74fa4fd64",
   "metadata": {},
   "outputs": [],
   "source": []
  },
  {
   "cell_type": "code",
   "execution_count": 10,
   "id": "a85f9f6e-c087-440b-8ea3-9f53ea3c3593",
   "metadata": {},
   "outputs": [],
   "source": [
    "match_indices = npz['matches'][npz['matches'] > -1]\n",
    "\n",
    "points1 = npz['keypoints0'][npz['matches'] > -1]\n",
    "points2 = npz['keypoints1'][match_indices]"
   ]
  },
  {
   "cell_type": "code",
   "execution_count": null,
   "id": "46874bd7-83f8-451d-8085-17935f8a6968",
   "metadata": {},
   "outputs": [],
   "source": []
  },
  {
   "cell_type": "code",
   "execution_count": null,
   "id": "9d10cbbd-54a3-421a-8243-18b349b7c908",
   "metadata": {},
   "outputs": [],
   "source": []
  },
  {
   "cell_type": "code",
   "execution_count": null,
   "id": "cded6386-8e26-4e56-8c48-ac3f53780beb",
   "metadata": {},
   "outputs": [],
   "source": []
  },
  {
   "cell_type": "code",
   "execution_count": 11,
   "id": "3b859618-835d-4174-9171-2407aca9e28e",
   "metadata": {},
   "outputs": [],
   "source": [
    "def get_rbt_estimation(points1, points2, K, distCoeffs):\n",
    "    pts_l_norm = cv.undistortPoints(np.expand_dims(points1, axis=1), cameraMatrix=K, distCoeffs=distCoeffs)\n",
    "    pts_r_norm = cv.undistortPoints(np.expand_dims(points2, axis=1), cameraMatrix=K, distCoeffs=distCoeffs)\n",
    "    \n",
    "    E, mask = cv.findEssentialMat(pts_l_norm, pts_r_norm, focal=1.0, pp=(0., 0.), method=cv.RANSAC, prob=0.999, threshold=3.0)\n",
    "    points, R_hat, t_hat, mask = cv.recoverPose(E, pts_l_norm, pts_r_norm)\n",
    "    \n",
    "    T_hat = np.vstack((np.hstack((R_hat, t_hat)), np.array([0., 0., 0., 1.])))\n",
    "    \n",
    "    \n",
    "    return R_hat, t_hat, T_hat"
   ]
  },
  {
   "cell_type": "code",
   "execution_count": 12,
   "id": "b7597cfb-8d13-4d9a-8060-7c9b781547c2",
   "metadata": {},
   "outputs": [
    {
     "data": {
      "text/plain": [
       "(array([[ 0.99920467,  0.03200302,  0.02378717],\n",
       "        [-0.0317425 ,  0.99943276, -0.01125018],\n",
       "        [-0.02413372,  0.01048617,  0.99965374]]),\n",
       " array([[ 0.10580275],\n",
       "        [-0.08789065],\n",
       "        [-0.99049534]]),\n",
       " array([[ 0.99920467,  0.03200302,  0.02378717,  0.10580275],\n",
       "        [-0.0317425 ,  0.99943276, -0.01125018, -0.08789065],\n",
       "        [-0.02413372,  0.01048617,  0.99965374, -0.99049534],\n",
       "        [ 0.        ,  0.        ,  0.        ,  1.        ]]))"
      ]
     },
     "execution_count": 12,
     "metadata": {},
     "output_type": "execute_result"
    }
   ],
   "source": [
    "get_rbt_estimation(points1, points2, K_no_rec, distCoeffs)"
   ]
  },
  {
   "cell_type": "code",
   "execution_count": null,
   "id": "fbafc3cb-b593-47d0-b946-57fdfc587722",
   "metadata": {},
   "outputs": [],
   "source": []
  },
  {
   "cell_type": "code",
   "execution_count": null,
   "id": "6209963e-8279-462e-9a31-d07e832b2812",
   "metadata": {},
   "outputs": [],
   "source": [
    "# Normalize for Esential Matrix calaculation\n",
    "pts_l_norm = cv.undistortPoints(np.expand_dims(points1, axis=1), cameraMatrix=K_no_rec, distCoeffs=distCoeffs)\n",
    "pts_r_norm = cv.undistortPoints(np.expand_dims(points2, axis=1), cameraMatrix=K_no_rec, distCoeffs=distCoeffs)"
   ]
  },
  {
   "cell_type": "code",
   "execution_count": 43,
   "id": "05735334-7066-4fb6-9d98-b9a0f5d69f29",
   "metadata": {},
   "outputs": [],
   "source": [
    "E, mask = cv.findEssentialMat(pts_l_norm, pts_r_norm, focal=1.0, pp=(0., 0.), method=cv.RANSAC, prob=0.999, threshold=3.0)\n",
    "points, R_hat, t_hat, mask = cv.recoverPose(E, pts_l_norm, pts_r_norm)"
   ]
  },
  {
   "cell_type": "code",
   "execution_count": 44,
   "id": "dc738755-5edc-4361-9e3f-44529734fdc2",
   "metadata": {},
   "outputs": [
    {
     "data": {
      "text/plain": [
       "array([[ 0.8980957 , -0.02313778,  0.43919103, -0.38393758],\n",
       "       [ 0.419907  ,  0.34205181, -0.84064182,  0.76302156],\n",
       "       [-0.13077551,  0.93939619,  0.31691098,  0.51999042],\n",
       "       [ 0.        ,  0.        ,  0.        ,  1.        ]])"
      ]
     },
     "execution_count": 44,
     "metadata": {},
     "output_type": "execute_result"
    }
   ],
   "source": [
    "T_hat = np.vstack((np.hstack((R_hat, t_hat)), np.array([0., 0., 0., 1.])))\n",
    "T_hat"
   ]
  },
  {
   "cell_type": "code",
   "execution_count": null,
   "id": "2059c603-0e4c-4d7d-93a4-a48045cfb889",
   "metadata": {},
   "outputs": [],
   "source": []
  },
  {
   "cell_type": "code",
   "execution_count": 45,
   "id": "71b97b53-b890-4f54-8247-689a54778b70",
   "metadata": {},
   "outputs": [],
   "source": []
  },
  {
   "cell_type": "code",
   "execution_count": null,
   "id": "1be67a37-d4d5-4564-960c-18ba13c3cd0c",
   "metadata": {},
   "outputs": [],
   "source": []
  },
  {
   "cell_type": "code",
   "execution_count": null,
   "id": "b6fb7008-9e70-4af9-a9d2-73ee66f0fc3d",
   "metadata": {},
   "outputs": [],
   "source": []
  },
  {
   "cell_type": "code",
   "execution_count": null,
   "id": "51600de0-a24e-4b1e-9312-95e595cba6ad",
   "metadata": {},
   "outputs": [],
   "source": []
  },
  {
   "cell_type": "code",
   "execution_count": 35,
   "id": "628fd33c-bc03-4aa7-b866-93aa34cd5077",
   "metadata": {},
   "outputs": [],
   "source": [
    "M_r = np.hstack((R, t))\n",
    "M_l = np.hstack((np.eye(3, 3), np.zeros((3, 1))))\n",
    "\n",
    "P_l = np.dot(K_no_rec,  M_l)\n",
    "P_r = np.dot(K_no_rec,  M_r)\n",
    "point_4d_hom = cv.triangulatePoints(P_l, P_r, np.expand_dims(points1, axis=1), np.expand_dims(points2, axis=1))\n",
    "point_4d = point_4d_hom / np.tile(point_4d_hom[-1, :], (4, 1))\n",
    "point_3d = point_4d[:3, :].T"
   ]
  },
  {
   "cell_type": "code",
   "execution_count": null,
   "id": "59074287-045c-430f-b916-8d106d33a5f9",
   "metadata": {},
   "outputs": [],
   "source": []
  }
 ],
 "metadata": {
  "kernelspec": {
   "display_name": "Python 3 (ipykernel)",
   "language": "python",
   "name": "python3"
  },
  "language_info": {
   "codemirror_mode": {
    "name": "ipython",
    "version": 3
   },
   "file_extension": ".py",
   "mimetype": "text/x-python",
   "name": "python",
   "nbconvert_exporter": "python",
   "pygments_lexer": "ipython3",
   "version": "3.8.10"
  }
 },
 "nbformat": 4,
 "nbformat_minor": 5
}
