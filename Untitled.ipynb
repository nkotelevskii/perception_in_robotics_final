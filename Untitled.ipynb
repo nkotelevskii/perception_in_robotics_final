{
 "cells": [
  {
   "cell_type": "code",
   "execution_count": 1,
   "id": "3a0e7324-75f0-47c1-8c8a-6929c6d59f6c",
   "metadata": {},
   "outputs": [],
   "source": [
    "from metrics import n_of_matches, kitti_rotation_error, rgbd_rotation_error\n",
    "from SuperGluePretrainedNetwork.models import utils\n",
    "import pykitti\n",
    "import numpy as np\n",
    "import os\n",
    "import cv2\n",
    "\n",
    "from metrics import get_rbt_estimation"
   ]
  },
  {
   "cell_type": "code",
   "execution_count": null,
   "id": "096b68a7-2109-4cb9-a320-05bcffd0a6ca",
   "metadata": {},
   "outputs": [],
   "source": []
  },
  {
   "cell_type": "code",
   "execution_count": 2,
   "id": "3e4fe2cf-1924-4bd8-9e7f-5d19998931c9",
   "metadata": {},
   "outputs": [
    {
     "name": "stdout",
     "output_type": "stream",
     "text": [
      "{'R_hat_mean': 10.79314313405778, 'R_hat_std': 3.045190817083845, 't_hat_mean': 58.29126154318052, 't_hat_std': 23.733183990763987}\n"
     ]
    }
   ],
   "source": [
    "output = rgbd_rotation_error('./results/rgbd_test_output/')\n",
    "print(output)"
   ]
  },
  {
   "cell_type": "code",
   "execution_count": null,
   "id": "e8c09a4e-5adb-4423-8351-e7d117f85f21",
   "metadata": {},
   "outputs": [],
   "source": []
  },
  {
   "cell_type": "code",
   "execution_count": 3,
   "id": "d58959fa-a8eb-452c-b0a4-d83f1e968c34",
   "metadata": {},
   "outputs": [
    {
     "name": "stdout",
     "output_type": "stream",
     "text": [
      "{'R_hat_mean': 10.886368924846487, 'R_hat_std': 3.0703427741504354, 't_hat_mean': 45.60468730758283, 't_hat_std': 22.870629807962946}\n"
     ]
    }
   ],
   "source": [
    "output = rgbd_rotation_error('./disk_lowe_rgb/')\n",
    "print(output)"
   ]
  },
  {
   "cell_type": "code",
   "execution_count": null,
   "id": "b22f0a75-1f3a-49ce-a1ed-4af0e7811ab8",
   "metadata": {},
   "outputs": [],
   "source": []
  },
  {
   "cell_type": "code",
   "execution_count": 4,
   "id": "4fb3c07c-1957-4405-be98-6598ba5c882f",
   "metadata": {},
   "outputs": [
    {
     "name": "stdout",
     "output_type": "stream",
     "text": [
      "{'R_hat_mean': inf, 'R_hat_std': nan, 't_hat_mean': inf, 't_hat_std': nan}\n"
     ]
    },
    {
     "name": "stderr",
     "output_type": "stream",
     "text": [
      "/home/nkotelevskii/github/perception_in_robotics/venv/lib/python3.8/site-packages/numpy/core/_methods.py:232: RuntimeWarning: invalid value encountered in subtract\n",
      "  x = asanyarray(arr - arrmean)\n"
     ]
    }
   ],
   "source": [
    "output = rgbd_rotation_error('./glue_lowe_rgb/')\n",
    "print(output)"
   ]
  },
  {
   "cell_type": "code",
   "execution_count": null,
   "id": "d99ede91-b37f-49e6-bfaa-68bd6f702cca",
   "metadata": {},
   "outputs": [],
   "source": []
  },
  {
   "cell_type": "code",
   "execution_count": null,
   "id": "10a29393-f0e3-4193-9fa4-33829697a96d",
   "metadata": {},
   "outputs": [],
   "source": []
  },
  {
   "cell_type": "code",
   "execution_count": null,
   "id": "0718c37f-1700-4076-8425-4691edb3b428",
   "metadata": {},
   "outputs": [],
   "source": []
  },
  {
   "cell_type": "code",
   "execution_count": null,
   "id": "fb287515-8e31-4498-8b89-909b4dca4235",
   "metadata": {},
   "outputs": [],
   "source": []
  },
  {
   "cell_type": "code",
   "execution_count": 5,
   "id": "ac016f8d-f5cb-4fc8-9ea5-d36c5685d7cf",
   "metadata": {},
   "outputs": [
    {
     "name": "stdout",
     "output_type": "stream",
     "text": [
      "{'R_hat_mean': 1.1400414797219272, 'R_hat_std': 0.6488340802440958, 't_hat_mean': 75.97472125251738, 't_hat_std': 4.678306693251364}\n"
     ]
    }
   ],
   "source": [
    "output = kitti_rotation_error('./results/kitti_test_output/')\n",
    "print(output)"
   ]
  },
  {
   "cell_type": "code",
   "execution_count": 6,
   "id": "7b9a97a3-4ada-4c3f-a8a7-6dfeb4d4c306",
   "metadata": {},
   "outputs": [
    {
     "name": "stdout",
     "output_type": "stream",
     "text": [
      "{'R_hat_mean': 1.1640176636696051, 'R_hat_std': 0.7059192400635456, 't_hat_mean': 83.7097513872232, 't_hat_std': 7.286818744252458}\n"
     ]
    }
   ],
   "source": [
    "output = kitti_rotation_error('./disk_lowe_kitti/')\n",
    "print(output)"
   ]
  },
  {
   "cell_type": "code",
   "execution_count": 7,
   "id": "8a5d5770-8f32-4648-9c5c-4fa54030b7aa",
   "metadata": {},
   "outputs": [
    {
     "name": "stdout",
     "output_type": "stream",
     "text": [
      "{'R_hat_mean': 1.0664615744314647, 'R_hat_std': 0.6758307339667279, 't_hat_mean': 75.35035993551328, 't_hat_std': 4.294624428872038}\n"
     ]
    }
   ],
   "source": [
    "output = kitti_rotation_error('./glue_lowe_kitti/')\n",
    "print(output)"
   ]
  },
  {
   "cell_type": "code",
   "execution_count": null,
   "id": "53687617-143c-4cb7-8299-d00836cf5a01",
   "metadata": {},
   "outputs": [],
   "source": []
  },
  {
   "cell_type": "code",
   "execution_count": null,
   "id": "2e1534bd-00d7-4d22-a5b9-a59786aa326d",
   "metadata": {},
   "outputs": [],
   "source": []
  },
  {
   "cell_type": "code",
   "execution_count": null,
   "id": "0d773d7b-c93d-48c3-b346-c677247c1a45",
   "metadata": {},
   "outputs": [],
   "source": []
  },
  {
   "cell_type": "code",
   "execution_count": null,
   "id": "46d3f148-202d-461e-bff7-e51bc67c795b",
   "metadata": {},
   "outputs": [],
   "source": []
  },
  {
   "cell_type": "code",
   "execution_count": null,
   "id": "f5edad8d-387b-4a48-a7a8-6d077f276e48",
   "metadata": {},
   "outputs": [],
   "source": []
  }
 ],
 "metadata": {
  "kernelspec": {
   "display_name": "Python 3 (ipykernel)",
   "language": "python",
   "name": "python3"
  },
  "language_info": {
   "codemirror_mode": {
    "name": "ipython",
    "version": 3
   },
   "file_extension": ".py",
   "mimetype": "text/x-python",
   "name": "python",
   "nbconvert_exporter": "python",
   "pygments_lexer": "ipython3",
   "version": "3.8.10"
  }
 },
 "nbformat": 4,
 "nbformat_minor": 5
}
